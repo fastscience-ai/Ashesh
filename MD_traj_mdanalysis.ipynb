{
 "cells": [
  {
   "cell_type": "code",
   "execution_count": null,
   "metadata": {},
   "outputs": [],
   "source": []
  },
  {
   "cell_type": "code",
   "execution_count": null,
   "metadata": {},
   "outputs": [],
   "source": [
    "import numpy as np\n",
    "import matplotlib.pyplot as plt\n",
    "from ase import Atoms\n",
    "#from ase.io import read \n",
    "import ase.io"
   ]
  },
  {
   "cell_type": "code",
   "execution_count": null,
   "metadata": {},
   "outputs": [],
   "source": [
    "#\n",
    "#!conda config --add channels conda-forge\n",
    "#!conda install mdanalysis\n",
    "\n",
    "import MDAnalysis as mda\n",
    "import numpy as np\n",
    "import matplotlib.pyplot as plt\n",
    "from MDAnalysis.analysis.msd import EinsteinMSD"
   ]
  },
  {
   "cell_type": "code",
   "execution_count": null,
   "metadata": {},
   "outputs": [],
   "source": [
    "# ---- 사용자 입력 ----\n",
    "extxyz_file = \"GT.extxyz\"  # 사용할 extxyz 파일\n",
    "# ---- MDAnalysis로 트래젝토리 로드 ----\n",
    "u = mda.Universe(extxyz_file)\n",
    "\n",
    "# ---- Mean Square Displacement (MSD) 계산 ----\n",
    "msd_analysis = EinsteinMSD(u, select='all', msd_type='xyz')  # 전체 원자 대상\n",
    "msd_analysis.run()\n",
    "\n",
    "# ---- 결과 저장 ----\n",
    "tau_values = msd_analysis.times  # lag time\n",
    "msd_values = msd_analysis.results.msds  # MSD 값\n",
    "\n",
    "# ---- MSD vs. Lag Time 플로팅 ----\n",
    "plt.figure(figsize=(8, 5))\n",
    "plt.plot(tau_values, msd_values, 'o-', label=\"MSD vs. Lag Time\")\n",
    "plt.xlabel(\"Lag Time (τ)\")\n",
    "plt.ylabel(\"Mean Square Displacement (MSD)\")\n",
    "plt.title(\"Mean Square Displacement vs. Lag Time\")\n",
    "plt.legend()\n",
    "plt.grid()\n",
    "plt.show()\n",
    "\n",
    "# ---- 로그-로그 플롯 ----\n",
    "plt.figure(figsize=(8, 5))\n",
    "plt.loglog(tau_values, msd_values, 'o-', label=\"MSD (log-log)\")\n",
    "plt.xlabel(\"log Lag Time (τ)\")\n",
    "plt.ylabel(\"log MSD\")\n",
    "plt.title(\"Log-Log Plot of MSD vs. Lag Time\")\n",
    "plt.legend()\n",
    "plt.grid()\n",
    "plt.show()"
   ]
  },
  {
   "cell_type": "code",
   "execution_count": null,
   "metadata": {},
   "outputs": [],
   "source": [
    "import MDAnalysis as mda\n",
    "import numpy as np\n",
    "import matplotlib.pyplot as plt\n",
    "from MDAnalysis.analysis.msd import EinsteinMSD\n",
    "from ase import Atoms\n",
    "from ase.io import Trajectory\n",
    "import ase.io\n",
    "\n",
    "# ---- Step 1: ASE에서 traj 파일 불러오기 ----\n",
    "ase_traj_file = \"your_trajectory.traj\"\n",
    "xyz_file = \"converted_trajectory.extxyz\"  # 변환할 XYZ 파일\n",
    "\n",
    "trajectory = Trajectory(ase_traj_file)  # ASE traj 파일 로드\n",
    "ase.io.write(xyz_file, trajectory, format=\"extxyz\")  # ASE를 XYZ로 변환\n",
    "\n",
    "# ---- Step 2: MDAnalysis로 변환된 XYZ 파일 불러오기 ----\n",
    "u = mda.Universe(xyz_file)  # 변환된 XYZ 파일 사용\n",
    "\n",
    "# ---- Step 3: Mean Square Displacement (MSD) 계산 ----\n",
    "msd_analysis = EinsteinMSD(u, select='all', msd_type='xyz')  # 모든 원자 선택\n",
    "msd_analysis.run()\n",
    "\n",
    "# ---- Step 4: 결과 저장 ----\n",
    "tau_values = msd_analysis.times  # lag time\n",
    "msd_values = msd_analysis.results.msds  # MSD 값\n",
    "\n",
    "# ---- Step 5: MSD vs. Lag Time 플로팅 ----\n",
    "plt.figure(figsize=(8, 5))\n",
    "plt.plot(tau_values, msd_values, 'o-', label=\"MSD vs. Lag Time\")\n",
    "plt.xlabel(\"Lag Time (τ)\")\n",
    "plt.ylabel(\"Mean Square Displacement (MSD)\")\n",
    "plt.title(\"Mean Square Displacement vs. Lag Time\")\n",
    "plt.legend()\n",
    "plt.grid()\n",
    "plt.show()\n",
    "\n",
    "# ---- Step 6: 로그-로그 플롯 ----\n",
    "plt.figure(figsize=(8, 5))\n",
    "plt.loglog(tau_values, msd_values, 'o-', label=\"MSD (log-log)\")\n",
    "plt.xlabel(\"log Lag Time (τ)\")\n",
    "plt.ylabel(\"log MSD\")\n",
    "plt.title(\"Log-Log Plot of MSD vs. Lag Time\")\n",
    "plt.legend()\n",
    "plt.grid()\n",
    "plt.show()\n"
   ]
  }
 ],
 "metadata": {
  "kernelspec": {
   "display_name": "smd",
   "language": "python",
   "name": "python3"
  },
  "language_info": {
   "codemirror_mode": {
    "name": "ipython",
    "version": 3
   },
   "file_extension": ".py",
   "mimetype": "text/x-python",
   "name": "python",
   "nbconvert_exporter": "python",
   "pygments_lexer": "ipython3",
   "version": "3.11.5"
  }
 },
 "nbformat": 4,
 "nbformat_minor": 2
}
